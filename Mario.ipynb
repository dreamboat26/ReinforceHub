{
  "nbformat": 4,
  "nbformat_minor": 0,
  "metadata": {
    "colab": {
      "provenance": [],
      "gpuType": "T4"
    },
    "kernelspec": {
      "name": "python3",
      "display_name": "Python 3"
    },
    "language_info": {
      "name": "python"
    },
    "accelerator": "GPU"
  },
  "cells": [
    {
      "cell_type": "code",
      "source": [
        "# Install dependencies\n",
        "!pip install gym-super-mario-bros stable-baselines3\n",
        "\n",
        "# Imports\n",
        "import gym\n",
        "import numpy as np\n",
        "from stable_baselines3 import A2C\n",
        "from stable_baselines3.common.vec_env import VecFrameStack, DummyVecEnv\n",
        "from stable_baselines3.common.envs import SuperMarioBrosEnv\n",
        "from gym_super_mario_bros.actions import SIMPLE_MOVEMENT, COMPLEX_MOVEMENT\n",
        "from gym_super_mario_bros.wrappers import SonicDiscretizer\n",
        "\n",
        "# Create the Super Mario Bros environment\n",
        "env = SuperMarioBrosEnv(world=1, stage=1)\n",
        "\n",
        "# Use SonicDiscretizer wrapper to convert to discrete actions\n",
        "env = SonicDiscretizer(env, COMPLEX_MOVEMENT)\n",
        "\n",
        "# Wrap the environment to handle vectorized input and stack frames\n",
        "env = VecFrameStack(DummyVecEnv([lambda: env]), n_stack=4)\n",
        "\n",
        "# Define and train the A2C model\n",
        "model = A2C('CnnPolicy', env, verbose=1)\n",
        "model.learn(total_timesteps=100000)\n",
        "\n",
        "# Save the trained model\n",
        "model.save(\"mario_a2c_model\")\n",
        "\n",
        "# Load the trained model\n",
        "model = A2C.load(\"mario_a2c_model\")\n",
        "\n",
        "# Evaluate the trained model\n",
        "obs = env.reset()\n",
        "done = False\n",
        "while not done:\n",
        "    action, _states = model.predict(obs)\n",
        "    obs, reward, done, info = env.step(action)\n",
        "    env.render()\n",
        "\n",
        "# Close the environment\n",
        "env.close()\n"
      ],
      "metadata": {
        "id": "wvqFbBeAoAUn"
      },
      "execution_count": null,
      "outputs": []
    }
  ]
}